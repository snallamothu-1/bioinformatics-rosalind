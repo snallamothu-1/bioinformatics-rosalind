{
  "cells": [
    {
      "cell_type": "markdown",
      "metadata": {
        "id": "l3h89jAYBUzz"
      },
      "source": [
        "# **<font color=blue>P1.** </font>Rename this notebook **Bioinformatics_Module03.ipynb </font><br>**"
      ]
    },
    {
      "cell_type": "markdown",
      "metadata": {
        "id": "jYlnA2Z2FhoW"
      },
      "source": [
        "# **<font color=blue>P2. </font>**```print()```writes to standard output (i.e. prints output to the screen)"
      ]
    },
    {
      "cell_type": "markdown",
      "metadata": {
        "id": "r118fqQodA9x"
      },
      "source": [
        "####**TASK P2.1:** Print <font color = magenta>hello world</font>"
      ]
    },
    {
      "cell_type": "code",
      "execution_count": 1,
      "metadata": {
        "colab": {
          "base_uri": "https://localhost:8080/"
        },
        "id": "kvxK8D5uFx_x",
        "outputId": "190ecf60-13f2-423e-ff65-8527bf03d305"
      },
      "outputs": [
        {
          "name": "stdout",
          "output_type": "stream",
          "text": [
            "hello world\n"
          ]
        }
      ],
      "source": [
        "print(\"hello world\")"
      ]
    },
    {
      "cell_type": "markdown",
      "metadata": {
        "id": "qRj8vCvXG-1k"
      },
      "source": [
        "# **<font color=blue>P3. </font>**```=``` is the ASSIGNMENT operator (assigns values to variables)\n",
        "####**TASK P3.1:** Ask Gemini, \"*Give me 3 examples to help practice understanding the assignment operator.*\""
      ]
    },
    {
      "cell_type": "code",
      "execution_count": 2,
      "metadata": {
        "colab": {
          "base_uri": "https://localhost:8080/"
        },
        "id": "VB8HPNe7JpuJ",
        "outputId": "4d340205-167d-420a-e7e5-96855805024d"
      },
      "outputs": [
        {
          "data": {
            "text/plain": [
              "5"
            ]
          },
          "execution_count": 2,
          "metadata": {},
          "output_type": "execute_result"
        }
      ],
      "source": [
        "# @title\n",
        "x=5\n",
        "x"
      ]
    },
    {
      "cell_type": "code",
      "execution_count": null,
      "metadata": {
        "id": "Birv0iR8eyUv"
      },
      "outputs": [],
      "source": []
    },
    {
      "cell_type": "markdown",
      "metadata": {
        "id": "s7deJQCHHwOa"
      },
      "source": [
        "# **<font color=blue>P4. </font>** Data types: use ```type()``` to find a variable's \"type\"\n",
        "####**TASK P4.1:** Ask Gemini, \"*Give me examples of each data type to see how they look as outputs.*\""
      ]
    },
    {
      "cell_type": "code",
      "execution_count": 3,
      "metadata": {
        "colab": {
          "base_uri": "https://localhost:8080/"
        },
        "id": "ktR75uWIJ0uc",
        "outputId": "43a946d4-ba2e-4ef3-ff7b-f8e6876264ef"
      },
      "outputs": [
        {
          "data": {
            "text/plain": [
              "int"
            ]
          },
          "execution_count": 3,
          "metadata": {},
          "output_type": "execute_result"
        }
      ],
      "source": [
        "type(x)"
      ]
    },
    {
      "cell_type": "code",
      "execution_count": 4,
      "metadata": {
        "colab": {
          "base_uri": "https://localhost:8080/"
        },
        "id": "Q3GPc67-gKRD",
        "outputId": "e78f44ac-f46f-4961-e8a3-ad806d8d3c42"
      },
      "outputs": [
        {
          "name": "stdout",
          "output_type": "stream",
          "text": [
            "<class 'int'>\n",
            "<class 'str'>\n",
            "<class 'list'>\n"
          ]
        }
      ],
      "source": [
        "# Integer type\n",
        "n = 50\n",
        "print(type(n))\n",
        "\n",
        "# String type\n",
        "te = \"Hello  Nanda!\"\n",
        "print(type(te))\n",
        "\n",
        "# List type\n",
        "my_list = [1, 2, 3]\n",
        "print(type(my_list))"
      ]
    },
    {
      "cell_type": "markdown",
      "metadata": {
        "id": "GtjxkNHWN5Xo"
      },
      "source": [
        "# **<font color=blue>P5. </font>** Arithmetic and comparison operators\n",
        "####**TASK P5.1:**   Complete Rosalind #1"
      ]
    },
    {
      "cell_type": "code",
      "execution_count": 5,
      "metadata": {
        "colab": {
          "base_uri": "https://localhost:8080/"
        },
        "id": "eHRJiyJ5gzyU",
        "outputId": "9df34f7f-2ab3-4715-87a4-2150639ed150"
      },
      "outputs": [
        {
          "name": "stdout",
          "output_type": "stream",
          "text": [
            "Hypotenuse= 104\n"
          ]
        }
      ],
      "source": [
        "a=10\n",
        "b=2\n",
        "c=a**2+b**2\n",
        "print('Hypotenuse=',c)"
      ]
    },
    {
      "cell_type": "code",
      "execution_count": 6,
      "metadata": {
        "colab": {
          "base_uri": "https://localhost:8080/"
        },
        "id": "45s9c4vyQm2U",
        "outputId": "731a5dd8-cf42-4b4d-fb08-01067cf0cec0"
      },
      "outputs": [
        {
          "name": "stdout",
          "output_type": "stream",
          "text": [
            "5\n"
          ]
        },
        {
          "data": {
            "text/plain": [
              "True"
            ]
          },
          "execution_count": 6,
          "metadata": {},
          "output_type": "execute_result"
        }
      ],
      "source": [
        "y=2+3\n",
        "print(y)\n",
        "x==y"
      ]
    },
    {
      "cell_type": "markdown",
      "metadata": {
        "id": "3yswDberkE7N"
      },
      "source": [
        "# **<font color=blue>P6. </font>** ```input()``` gets input from the user"
      ]
    },
    {
      "cell_type": "markdown",
      "metadata": {
        "id": "z97rSY9gqdad"
      },
      "source": [
        "TASK P6.1"
      ]
    },
    {
      "cell_type": "code",
      "execution_count": 7,
      "metadata": {
        "colab": {
          "base_uri": "https://localhost:8080/"
        },
        "id": "d91046dd",
        "outputId": "d85e7e52-e31e-4988-f548-2c5bfe6bd2df"
      },
      "outputs": [
        {
          "name": "stdout",
          "output_type": "stream",
          "text": [
            "Hello, Nanda\n"
          ]
        }
      ],
      "source": [
        "name = input(\"Enter your name: \")\n",
        "print(\"Hello, \" + name)"
      ]
    },
    {
      "cell_type": "markdown",
      "metadata": {
        "id": "e3LaAQeLRmE6"
      },
      "source": [
        "####**TASK P6.1:** Solve Rosalind #1 again, but get user input for the values of a and b rather than modifying the code."
      ]
    },
    {
      "cell_type": "code",
      "execution_count": 8,
      "metadata": {
        "colab": {
          "base_uri": "https://localhost:8080/"
        },
        "id": "wZ0XL0L6Rq2H",
        "outputId": "ef5aff0f-8491-4e0b-b92b-59f51e2eb5f9"
      },
      "outputs": [
        {
          "name": "stdout",
          "output_type": "stream",
          "text": [
            "The sq of the hypotenuse is 7232\n"
          ]
        }
      ],
      "source": [
        "a= int(input(\"enter a:\"))\n",
        "b= int(input(\"enter b:\"))\n",
        "c=a**2+b**2\n",
        "print (\"The sq of the hypotenuse is\",c)"
      ]
    },
    {
      "cell_type": "markdown",
      "metadata": {
        "id": "4IM-9eAGkPdi"
      },
      "source": [
        "# **<font color=blue>P7. </font>** ```list``` type variables (create, replace, append)"
      ]
    },
    {
      "cell_type": "code",
      "execution_count": null,
      "metadata": {
        "id": "HzjAzK0BXHnq"
      },
      "outputs": [],
      "source": []
    },
    {
      "cell_type": "markdown",
      "metadata": {
        "id": "DhNGdYK6NEpe"
      },
      "source": [
        "####**TASK P7.1**"
      ]
    },
    {
      "cell_type": "code",
      "execution_count": 9,
      "metadata": {
        "colab": {
          "base_uri": "https://localhost:8080/"
        },
        "id": "N3VRRQIEkXuP",
        "outputId": "fdc13733-396e-468c-b246-a020c06cf7aa"
      },
      "outputs": [
        {
          "name": "stdout",
          "output_type": "stream",
          "text": [
            "World\n"
          ]
        }
      ],
      "source": [
        "# Create a list with 3 elements and then print them\n",
        "\n",
        "my_list = [\"Hello\", \"World\", \"Charles Darwin\"]\n",
        "print (my_list[1])"
      ]
    },
    {
      "cell_type": "markdown",
      "metadata": {
        "id": "Yn3bAoi8NKy5"
      },
      "source": [
        "####**TASK P7.2**"
      ]
    },
    {
      "cell_type": "code",
      "execution_count": 10,
      "metadata": {
        "colab": {
          "base_uri": "https://localhost:8080/"
        },
        "id": "WNnsUuduOKbI",
        "outputId": "4b1fd1a6-2d26-483c-f50d-994645621fde"
      },
      "outputs": [
        {
          "name": "stdout",
          "output_type": "stream",
          "text": [
            "['Hello', 'World', 'Alfred R. Wallace']\n"
          ]
        }
      ],
      "source": [
        "# Substitute the item at index 2 in the list\n",
        "my_list[2] = \"Alfred R. Wallace\"\n",
        "print (my_list)"
      ]
    },
    {
      "cell_type": "markdown",
      "metadata": {
        "id": "SxiMMNLyPwGV"
      },
      "source": [
        "####**TASK P7.3**"
      ]
    },
    {
      "cell_type": "code",
      "execution_count": 13,
      "metadata": {
        "colab": {
          "base_uri": "https://localhost:8080/"
        },
        "id": "3VrLc6CGQTi-",
        "outputId": "53a31087-e9e1-45ad-e2f3-ba28add87d12"
      },
      "outputs": [
        {
          "name": "stdout",
          "output_type": "stream",
          "text": [
            "['Hello', 'World', 'Alfred R. Wallace', 'Charles Darwin', 'Jeff', 'Charles Darwin']\n"
          ]
        }
      ],
      "source": [
        "# Append an item to the end of the list\n",
        "my_list.append(\"Charles Darwin\")\n",
        "print (my_list)"
      ]
    },
    {
      "cell_type": "markdown",
      "metadata": {
        "id": "XQKmwgbfQond"
      },
      "source": [
        "####**TASK P7.4**. Ask Gemini how to <font color=crimson>```insert```</font> a new item at index 1 in the list"
      ]
    },
    {
      "cell_type": "code",
      "execution_count": 14,
      "metadata": {
        "colab": {
          "base_uri": "https://localhost:8080/"
        },
        "id": "u0maP5CZZN13",
        "outputId": "fad90d5c-d455-4d11-df17-d1fbfc0051ae"
      },
      "outputs": [
        {
          "name": "stdout",
          "output_type": "stream",
          "text": [
            "['Hello', 'Jeff', 'World', 'Alfred R. Wallace', 'Charles Darwin', 'Jeff', 'Charles Darwin']\n"
          ]
        }
      ],
      "source": [
        "# On line #2 insert an item at index 1 of my_list\n",
        "my_list.insert(1, \"Jeff\")\n",
        "print (my_list)"
      ]
    },
    {
      "cell_type": "markdown",
      "metadata": {
        "id": "nlBbe3qBRH_J"
      },
      "source": [
        "# **<font color=blue>P8. </font>** Slicing lists and strings"
      ]
    },
    {
      "cell_type": "markdown",
      "metadata": {
        "id": "M0YW2MP0WtuI"
      },
      "source": [
        "####**TASK P8.1** Slice and print only the middle two elements from the list created in P7 (i.e. only <font color=magenta>World</font> and <font color=magenta>Alfred R. Wallace</font>).  "
      ]
    },
    {
      "cell_type": "code",
      "execution_count": 15,
      "metadata": {
        "colab": {
          "base_uri": "https://localhost:8080/"
        },
        "id": "Tp1djNtiaxSb",
        "outputId": "aab71208-3635-4ab0-94fb-32f54951c0d1"
      },
      "outputs": [
        {
          "name": "stdout",
          "output_type": "stream",
          "text": [
            "['World', 'Alfred R. Wallace']\n"
          ]
        }
      ],
      "source": [
        "print (my_list[2:4])"
      ]
    },
    {
      "cell_type": "markdown",
      "metadata": {
        "id": "_F9KCUzCd3ID"
      },
      "source": [
        "####**TASK P8.2**: Print <font color=magenta>Wallace World</font> from **my_string** by slicing\n"
      ]
    },
    {
      "cell_type": "code",
      "execution_count": 16,
      "metadata": {
        "colab": {
          "base_uri": "https://localhost:8080/"
        },
        "id": "AafKngtba8En",
        "outputId": "421ca01a-0dce-48ce-b1a3-6e922d4dd5b8"
      },
      "outputs": [
        {
          "name": "stdout",
          "output_type": "stream",
          "text": [
            "Hello World\n",
            "Wallace World\n"
          ]
        }
      ],
      "source": [
        "my_string = \"HelloWorldCharlesDarwinAlfred R. Wallace\"\n",
        "print (my_string[0:5],my_string[5:10])\n",
        "\n",
        "# in the print command below input the correct index values to complete Task P8.2\n",
        "print (my_string[ 33: ],my_string[ 5:10 ])"
      ]
    },
    {
      "cell_type": "markdown",
      "metadata": {
        "id": "2TTQVE-Xf8jR"
      },
      "source": [
        "####**TASK P8.3**  **<font color = orange> Complete Rosalind Problem #2 Strings and Lists</font>**"
      ]
    },
    {
      "cell_type": "code",
      "execution_count": 18,
      "metadata": {
        "colab": {
          "base_uri": "https://localhost:8080/"
        },
        "id": "LI88f5RZh4GL",
        "outputId": "0e19194a-4c5b-4460-b31d-7811a4ca511c"
      },
      "outputs": [
        {
          "name": "stdout",
          "output_type": "stream",
          "text": [
            "Humpty Dumpty\n"
          ]
        }
      ],
      "source": [
        "# Enter code for Rosalind 2 here:\n",
        "#Enter a string: HumptyDumptysatonawallHumptyDumptyhadagreatfallAlltheKingshorsesandalltheKingsmenCouldntputHumptyDumptyinhisplaceagain.\n",
        "#Enter the first starting index (a): 22\n",
        "#Enter the first ending index (b): 27\n",
        "#Enter the second starting index (c): 97\n",
        "#Enter the second ending index (d): 102\n",
        "# Get input from the user\n",
        "s = 'HumptyDumptysatonawallHumptyDumptyhadagreatfallAlltheKingshorsesandalltheKingsmenCouldntputHumptyDumptyinhisplaceagain'\n",
        "a = 22\n",
        "b = 27\n",
        "c = 97\n",
        "d = 102\n",
        "\n",
        "# Extract the slices\n",
        "slice1 = s[a : b + 1]\n",
        "slice2 = s[c : d + 1]\n",
        "\n",
        "# Print the slices with a space in between\n",
        "print(slice1, slice2)"
      ]
    },
    {
      "cell_type": "markdown",
      "metadata": {
        "id": "Tw6Pwh6TjwJ9"
      },
      "source": [
        "####**<font color=crimson>TASK 8.4 Commit to GitHub**</font>*italicized text*"
      ]
    },
    {
      "cell_type": "markdown",
      "metadata": {
        "id": "iHFNxm30lzic"
      },
      "source": [
        "# **<font color=blue>P9. </font>** ```if``` and ```else``` - conditional output"
      ]
    },
    {
      "cell_type": "markdown",
      "metadata": {
        "id": "WCXnGdftztbN"
      },
      "source": [
        "####**TASK P9.1** Create some code that subtracts two numbers if they are different or adds them if they are the same."
      ]
    },
    {
      "cell_type": "code",
      "execution_count": 19,
      "metadata": {
        "colab": {
          "base_uri": "https://localhost:8080/"
        },
        "id": "KabZsL5Fy8jJ",
        "outputId": "fb16f4ff-386d-40b4-ece6-b6545652ff9f"
      },
      "outputs": [
        {
          "name": "stdout",
          "output_type": "stream",
          "text": [
            "10\n"
          ]
        }
      ],
      "source": [
        "a=5\n",
        "b=5\n",
        "\n",
        "if a!=b:\n",
        "  print(a-b)\n",
        "\n",
        "else:\n",
        "  print(a+b)"
      ]
    },
    {
      "cell_type": "markdown",
      "metadata": {
        "id": "sOgq54Op4MZL"
      },
      "source": [
        "# **<font color=blue>P10.</font>** ```while``` loops"
      ]
    },
    {
      "cell_type": "markdown",
      "metadata": {
        "id": "JMqGqhTn4l9s"
      },
      "source": [
        "####**TASK P10.1** Create a while loop that runs 3 times\n"
      ]
    },
    {
      "cell_type": "code",
      "execution_count": 20,
      "metadata": {
        "colab": {
          "base_uri": "https://localhost:8080/"
        },
        "id": "07YbiCGO4O1w",
        "outputId": "80a4ea2b-8f74-4b69-ea87-1aa8dc30d03b"
      },
      "outputs": [
        {
          "name": "stdout",
          "output_type": "stream",
          "text": [
            "Counting!\n",
            "Counting!Counting!\n",
            "Counting!Counting!Counting!\n"
          ]
        }
      ],
      "source": [
        "#initiate a counter\n",
        "a = 1\n",
        "\n",
        "#print \"Counting!\" while a<=3\n",
        "while a <= 3:\n",
        "\n",
        "    print (\"Counting!\" * a)\n",
        "    a += 1"
      ]
    },
    {
      "cell_type": "markdown",
      "metadata": {
        "id": "R5_dYi9f6t1z"
      },
      "source": [
        "# **<font color=blue>P11.</font>** ```for``` loops – looping over lists"
      ]
    },
    {
      "cell_type": "markdown",
      "metadata": {
        "id": "x9F7v_V073wO"
      },
      "source": [
        "####**TASK P11.1** Create a for loop to print each item in a list\n"
      ]
    },
    {
      "cell_type": "code",
      "execution_count": 21,
      "metadata": {
        "colab": {
          "base_uri": "https://localhost:8080/"
        },
        "id": "-aqaQ5hz70yo",
        "outputId": "68eb8ec0-0bac-4619-a967-ced973ea2088"
      },
      "outputs": [
        {
          "name": "stdout",
          "output_type": "stream",
          "text": [
            "Hello Alice\n",
            "Hello Bob\n",
            "Hello Charley\n"
          ]
        }
      ],
      "source": [
        "names = [\"Alice\",\"Bob\",\"Charley\"]\n",
        "\n",
        "for name in names:\n",
        "    print (\"Hello\", name)"
      ]
    },
    {
      "cell_type": "markdown",
      "metadata": {
        "id": "LdtXZ0LW9ugo"
      },
      "source": [
        "# **<font color=blue>P12.</font>** ```for``` loops over a ```range()```of numbers"
      ]
    },
    {
      "cell_type": "markdown",
      "metadata": {
        "id": "jG6jvXEBDi4H"
      },
      "source": [
        "####**TASK 12.1** Using for and range(), create code that prints the numbers 0-9"
      ]
    },
    {
      "cell_type": "code",
      "execution_count": 22,
      "metadata": {
        "colab": {
          "base_uri": "https://localhost:8080/"
        },
        "id": "RFBXqQNu_E6X",
        "outputId": "c8461cec-8c3f-4d2f-93f9-f20c9e99752a"
      },
      "outputs": [
        {
          "name": "stdout",
          "output_type": "stream",
          "text": [
            "0\n",
            "1\n",
            "2\n",
            "3\n",
            "4\n",
            "5\n",
            "6\n",
            "7\n",
            "8\n",
            "9\n"
          ]
        }
      ],
      "source": [
        "# Create a variable to define the  number of iterations\n",
        "iterations = 10\n",
        "\n",
        "#Print the current item's value each time through the loop\n",
        "for number in range(iterations):\n",
        "    print (number)"
      ]
    },
    {
      "cell_type": "markdown",
      "metadata": {
        "id": "NRd5srR_G-PQ"
      },
      "source": [
        "####**TASK 12.2** Modify the code so that it only prints every 3rd number from 9 through 27 (i.e. including 27)"
      ]
    },
    {
      "cell_type": "code",
      "execution_count": 23,
      "metadata": {
        "colab": {
          "base_uri": "https://localhost:8080/"
        },
        "id": "irYTFPO-IRHo",
        "outputId": "4e1cee74-6c19-44d7-e656-517a650ba544"
      },
      "outputs": [
        {
          "name": "stdout",
          "output_type": "stream",
          "text": [
            "9\n",
            "12\n",
            "15\n",
            "18\n",
            "21\n",
            "24\n",
            "27\n"
          ]
        }
      ],
      "source": [
        "for number in range(9,28,3):\n",
        "    print (number)"
      ]
    },
    {
      "cell_type": "markdown",
      "metadata": {
        "id": "83jDEjpMHXUa"
      },
      "source": [
        "####**TASK 12.3** <font color = orange> **Complete Rosalind Problem #3 Conditions and Loops** </font>"
      ]
    },
    {
      "cell_type": "code",
      "execution_count": 24,
      "metadata": {
        "colab": {
          "base_uri": "https://localhost:8080/"
        },
        "id": "EI7hRtakG90R",
        "outputId": "aa5ed44d-39c1-41a7-e3cf-dfbd6cccc9a4"
      },
      "outputs": [
        {
          "name": "stdout",
          "output_type": "stream",
          "text": [
            "7500\n"
          ]
        }
      ],
      "source": [
        "# Enter code for Rosalind 3 here:\n",
        "# Read the input range 100,200\n",
        "a = int(input(\"Enter the starting integer (a): \"))\n",
        "b = int(input(\"Enter the ending integer (b): \"))\n",
        "\n",
        "# Initialize the sum of odd integers\n",
        "sum_of_odds = 0\n",
        "\n",
        "# Iterate through the range from a to b (inclusive)\n",
        "for number in range(a, b + 1):\n",
        "  # Check if the number is odd\n",
        "  if number % 2 != 0:\n",
        "    # Add the odd number to the sum\n",
        "    sum_of_odds += number\n",
        "\n",
        "# Print the sum of all odd integers\n",
        "print(sum_of_odds)"
      ]
    },
    {
      "cell_type": "markdown",
      "metadata": {
        "id": "3P9DKNbPI1wp"
      },
      "source": [
        "####**<font color=crimson>TASK 12.4 Commit to GitHub**</font>"
      ]
    },
    {
      "cell_type": "markdown",
      "metadata": {
        "id": "i4Fo-ddSKWwy"
      },
      "source": [
        "# **<font color=blue>P13.</font>** File I/O – with open(\"filename\", \"mode\") as filehandle:\n"
      ]
    },
    {
      "cell_type": "markdown",
      "metadata": {
        "id": "sgc3wiQmLXcI"
      },
      "source": [
        "####**TASK P13.1** Use the ```read()``` function to print the <font color = orange>practice dataset from Rosalind #4</font>\n"
      ]
    },
    {
      "cell_type": "code",
      "execution_count": 25,
      "metadata": {
        "id": "369xYqwOkZjE"
      },
      "outputs": [],
      "source": [
        "file_content = \"\"\"Bravely bold Sir Robin rode forth from Camelot\n",
        "Yes, brave Sir Robin turned about\n",
        "He was not afraid to die, O brave Sir Robin\n",
        "And gallantly he chickened out\n",
        "He was not at all afraid to be killed in nasty ways\n",
        "Bravely talking to his feet\n",
        "Brave, brave, brave, brave Sir Robin\n",
        "He beat a very brave retreat\"\"\"\n",
        "\n",
        "with open(\"practice.txt\", \"w\") as f:\n",
        "  f.write(file_content)"
      ]
    },
    {
      "cell_type": "code",
      "execution_count": 26,
      "metadata": {
        "colab": {
          "base_uri": "https://localhost:8080/"
        },
        "id": "V5nzHsnULA_n",
        "outputId": "92e4327a-597d-4227-cec6-ef28384a9dbf"
      },
      "outputs": [
        {
          "name": "stdout",
          "output_type": "stream",
          "text": [
            "Yes, brave Sir Robin turned about\n",
            "\n",
            "And gallantly he chickened out\n",
            "\n",
            "Bravely talking to his feet\n",
            "\n",
            "He beat a very brave retreat\n"
          ]
        }
      ],
      "source": [
        "#with open(\"practice.txt\",\"r\") as data:\n",
        "\n",
        "    #print(data.read())\n",
        "\n",
        "    #print(data.readline())\n",
        "\n",
        "    #print(data.readlines())\n",
        "# Read all lines into a list\n",
        "with open(\"practice.txt\", \"r\") as infile:\n",
        "  all_lines = infile.readlines()\n",
        "\n",
        "# Use list slicing to get even-numbered lines (every second element starting from the second line)\n",
        "# Remember that lists are 0-indexed, so index 1 is the second line, index 3 is the fourth, etc.\n",
        "even_lines = all_lines[1::2]\n",
        "for i in even_lines:\n",
        "  print(i)"
      ]
    },
    {
      "cell_type": "markdown",
      "metadata": {
        "id": "GLO6tBYNVzYZ"
      },
      "source": [
        "####**TASK P13.2** Explore file object functions to read and print practice.txt"
      ]
    },
    {
      "cell_type": "markdown",
      "metadata": {
        "id": "iupO8iI-ZYAe"
      },
      "source": [
        "#<font color=blue>**P14.**</font> Store the content, close the file, and join ( ) the list"
      ]
    },
    {
      "cell_type": "code",
      "execution_count": 27,
      "metadata": {
        "colab": {
          "base_uri": "https://localhost:8080/"
        },
        "id": "8U5w2qOudDyp",
        "outputId": "69bd87b9-577b-48d6-c706-f6eedc24a31a"
      },
      "outputs": [
        {
          "name": "stdout",
          "output_type": "stream",
          "text": [
            "['Bravely bold Sir Robin rode forth from Camelot\\n', 'Yes, brave Sir Robin turned about\\n', 'He was not afraid to die, O brave Sir Robin\\n', 'And gallantly he chickened out\\n', 'He was not at all afraid to be killed in nasty ways\\n', 'Bravely talking to his feet\\n', 'Brave, brave, brave, brave Sir Robin\\n', 'He beat a very brave retreat']\n"
          ]
        }
      ],
      "source": [
        "with open(\"practice.txt\",\"r\") as data:\n",
        "\n",
        "  list_of_lines=data.readlines()\n",
        "\n",
        "print (list_of_lines)"
      ]
    },
    {
      "cell_type": "markdown",
      "metadata": {
        "id": "5pPhGmQYiiKx"
      },
      "source": [
        "####**TASK P14.1** Read practice.txt into a list of lines. Then, after the file is closed, use the join ( ) function to print the contents so it looks like the original input."
      ]
    },
    {
      "cell_type": "code",
      "execution_count": 29,
      "metadata": {
        "colab": {
          "base_uri": "https://localhost:8080/"
        },
        "id": "XLvFZ9uSeyYH",
        "outputId": "7d27e527-87a9-4c94-8163-5762c353b0d4"
      },
      "outputs": [
        {
          "name": "stdout",
          "output_type": "stream",
          "text": [
            "Bravely bold Sir Robin rode forth from Camelot\n",
            "Yes, brave Sir Robin turned about\n",
            "He was not afraid to die, O brave Sir Robin\n",
            "And gallantly he chickened out\n",
            "He was not at all afraid to be killed in nasty ways\n",
            "Bravely talking to his feet\n",
            "Brave, brave, brave, brave Sir Robin\n",
            "He beat a very brave retreat\n"
          ]
        }
      ],
      "source": [
        "print (\"\".join(list_of_lines))"
      ]
    },
    {
      "cell_type": "markdown",
      "metadata": {
        "id": "lY924yM0jckW"
      },
      "source": [
        "#<font color=blue>**P15.**</font> Combining for loops with file objects"
      ]
    },
    {
      "cell_type": "markdown",
      "metadata": {
        "id": "NvqGEl4JjpiO"
      },
      "source": [
        "####**TASK P15.1** Use a for loop to print each line in practice.txt"
      ]
    },
    {
      "cell_type": "code",
      "execution_count": 30,
      "metadata": {
        "colab": {
          "base_uri": "https://localhost:8080/"
        },
        "id": "snY-10pUkMby",
        "outputId": "433c48bf-9905-44cc-ba93-0826a67dc0a0"
      },
      "outputs": [
        {
          "name": "stdout",
          "output_type": "stream",
          "text": [
            "Bravely bold Sir Robin rode forth from Camelot\n",
            "\n",
            "Yes, brave Sir Robin turned about\n",
            "\n",
            "He was not afraid to die, O brave Sir Robin\n",
            "\n",
            "And gallantly he chickened out\n",
            "\n",
            "He was not at all afraid to be killed in nasty ways\n",
            "\n",
            "Bravely talking to his feet\n",
            "\n",
            "Brave, brave, brave, brave Sir Robin\n",
            "\n",
            "He beat a very brave retreat\n"
          ]
        }
      ],
      "source": [
        "with open(\"practice.txt\",\"r\") as data:\n",
        "\n",
        "  for line in data:\n",
        "    print (line)"
      ]
    },
    {
      "cell_type": "markdown",
      "metadata": {
        "id": "DHzE7CI4lWGw"
      },
      "source": [
        "####**TASK P15.2** <font color=orange>**Complete Rosalind Problem #4 Working with Files**</font>\n"
      ]
    },
    {
      "cell_type": "code",
      "execution_count": 31,
      "metadata": {
        "colab": {
          "base_uri": "https://localhost:8080/"
        },
        "id": "8QR9dRFtltBN",
        "outputId": "b8eb7afc-58ea-4d68-c95a-2fac985131af"
      },
      "outputs": [
        {
          "name": "stdout",
          "output_type": "stream",
          "text": [
            "Yes, brave Sir Robin turned about\n",
            "\n",
            "And gallantly he chickened out\n",
            "\n",
            "Bravely talking to his feet\n",
            "\n",
            "He beat a very brave retreat\n"
          ]
        }
      ],
      "source": [
        "with open(\"practice.txt\",\"r\") as data:\n",
        "  lines = data.readlines() # Read all lines into a list\n",
        "\n",
        "# Now iterate through the list using slicing\n",
        "for line in lines[1::2]:\n",
        "  print (line)"
      ]
    },
    {
      "cell_type": "markdown",
      "metadata": {
        "id": "GJ_acW4WlwDn"
      },
      "source": [
        "####**<font color=crimson>TASK 15.4 Commit to GitHub**</font>"
      ]
    },
    {
      "cell_type": "markdown",
      "metadata": {
        "id": "WD5wnvQkmh6E"
      },
      "source": [
        "#<font color=blue>**P16.**</font> ```for word in line.split()``` – looping over strings and splitting by any delimiter"
      ]
    },
    {
      "cell_type": "markdown",
      "metadata": {
        "id": "kApNvgOLn8lp"
      },
      "source": [
        "####**TASK P16.1** Print each word in the ROSALIND Problem #5 Sample Dataset on a separate line.\n"
      ]
    },
    {
      "cell_type": "code",
      "execution_count": 32,
      "metadata": {
        "id": "HEcQ7WfcnaGR"
      },
      "outputs": [],
      "source": [
        "file_content_5 = \"\"\"We tried list and we tried dicts also we tried Zen\"\"\"\n",
        "\n",
        "with open(\"practice_5.txt\", \"w\") as f:\n",
        "  f.write(file_content_5)"
      ]
    },
    {
      "cell_type": "code",
      "execution_count": 33,
      "metadata": {
        "colab": {
          "base_uri": "https://localhost:8080/"
        },
        "id": "PBjyhwclpKoM",
        "outputId": "a4e41140-7202-49e2-9613-56db241c8d03"
      },
      "outputs": [
        {
          "name": "stdout",
          "output_type": "stream",
          "text": [
            "We\n",
            "tried\n",
            "list\n",
            "and\n",
            "we\n",
            "tried\n",
            "dicts\n",
            "also\n",
            "we\n",
            "tried\n",
            "Zen\n"
          ]
        }
      ],
      "source": [
        "with open(\"practice_5.txt\",\"r\") as data:\n",
        "\n",
        "  line=data.read()\n",
        "\n",
        "for word in line.split():\n",
        "    print (word)"
      ]
    },
    {
      "cell_type": "markdown",
      "metadata": {
        "id": "kq9QbEttnA4h"
      },
      "source": [
        "#<font color=blue>**P17.**</font> Python Dictionaries { }"
      ]
    },
    {
      "cell_type": "markdown",
      "metadata": {
        "id": "lVudFQkZqJgh"
      },
      "source": [
        "####**TASK 17.1** Create and print your first dictionary"
      ]
    },
    {
      "cell_type": "code",
      "execution_count": 34,
      "metadata": {
        "colab": {
          "base_uri": "https://localhost:8080/"
        },
        "id": "IzKFWDlgq6zo",
        "outputId": "7a758f3e-8294-4d38-b2a0-f497df88766c"
      },
      "outputs": [
        {
          "name": "stdout",
          "output_type": "stream",
          "text": [
            "{'H.neandertalensis': 'ACGTCGCTCTGCTA', 'H.sapiens': 'ACGTCACTCTGCTA'}\n"
          ]
        }
      ],
      "source": [
        "sequences = {\n",
        "    \"H.neandertalensis\":\"ACGTCGCTCTGCTA\",\n",
        "    \"H.sapiens\":\"ACGTCACTCTGCTA\"\n",
        "    }\n",
        "\n",
        "print (sequences)"
      ]
    },
    {
      "cell_type": "markdown",
      "metadata": {
        "id": "OvqoT6UwnK0g"
      },
      "source": [
        "#<font color=blue>**P18.**</font> Manipulating and printing dictionaries"
      ]
    },
    {
      "cell_type": "markdown",
      "metadata": {
        "id": "5Be2tcQRrjso"
      },
      "source": [
        "####**TASK 18.1** Modify line 8 to create a fasta file of the hominid sequences"
      ]
    },
    {
      "cell_type": "code",
      "execution_count": 35,
      "metadata": {
        "colab": {
          "base_uri": "https://localhost:8080/"
        },
        "id": "b-2XDof4rtP8",
        "outputId": "77b9cea1-042a-4fa5-e8b0-188f828d0fe5"
      },
      "outputs": [
        {
          "name": "stdout",
          "output_type": "stream",
          "text": [
            "ACGTCACTCTGCTA\n",
            ">H.neandertalensis\n",
            "ACGTCGCTCTGCTA\n",
            ">H.sapiens\n",
            "ACGTCACTCTGCTA\n",
            ">P.troglodytes\n",
            "ACGTCACTCTCCTA\n",
            ">G.gorilla\n",
            "ACGTCCTCCTA\n",
            ">H.erectus\n",
            "ACGTCACTCTGCTA\n"
          ]
        }
      ],
      "source": [
        "sequences[\"P.troglodytes\"]=\"ACGTCACTCTCCTA\"\n",
        "\n",
        "sequences.update({\"G.gorilla\":\"ACGTCCTCCTA\", \"H.erectus\":\"ACGTCACTCTGCTA\"})\n",
        "\n",
        "print (sequences[\"H.sapiens\"])\n",
        "\n",
        "for key,value in sequences.items():\n",
        "     print (f\">{key}\") # Print the key with a '>' prefix\n",
        "     print (value) # Print the value (sequence) on the next line"
      ]
    },
    {
      "cell_type": "markdown",
      "metadata": {
        "id": "Y98OZYUNvmWD"
      },
      "source": [
        "####**TASK P18.2** <font color= orange>**Complete Rosalind Problem #5  Dictionaries**</font>"
      ]
    },
    {
      "cell_type": "code",
      "execution_count": 36,
      "metadata": {
        "colab": {
          "base_uri": "https://localhost:8080/"
        },
        "id": "lD3KoTY9wWa7",
        "outputId": "ac2d8f8b-4a8a-4937-8c70-129378092cc1"
      },
      "outputs": [
        {
          "name": "stdout",
          "output_type": "stream",
          "text": [
            "We 1\n",
            "tried 3\n",
            "list 1\n",
            "and 1\n",
            "we 2\n",
            "dicts 1\n",
            "also 1\n",
            "Zen 1\n"
          ]
        }
      ],
      "source": [
        "# Enter code for Rosalind 5 here:\n",
        "with open(\"practice_5.txt\",\"r\") as data:\n",
        "\n",
        "  s=data.read()\n",
        "\n",
        "word_counts = {}\n",
        "words = s.split()\n",
        "\n",
        "for word in words:\n",
        "  if word in word_counts:\n",
        "    word_counts[word] += 1\n",
        "  else:\n",
        "    word_counts[word] = 1\n",
        "\n",
        "for word, count in word_counts.items():\n",
        "  print(word, count)"
      ]
    },
    {
      "cell_type": "markdown",
      "metadata": {
        "id": "1dJdfy4bwVO4"
      },
      "source": [
        "####**<font color=crimson>TASK 18.3 Commit to GitHub**</font>"
      ]
    },
    {
      "cell_type": "markdown",
      "metadata": {
        "id": "28ygQlYJnZoA"
      },
      "source": [
        "#<font color=blue>**P19.**</font> ```count()``` – counting things made easy"
      ]
    },
    {
      "cell_type": "markdown",
      "metadata": {
        "id": "CZ9tBWDmw4D-"
      },
      "source": [
        "####**TASK P19.1** <font color= orange>**Complete Rosalind Problem #6  Counting DNA Nucleotides**</font>"
      ]
    },
    {
      "cell_type": "code",
      "execution_count": 37,
      "metadata": {
        "colab": {
          "base_uri": "https://localhost:8080/"
        },
        "id": "GlwS14zGxBIC",
        "outputId": "1de722d5-9773-4c99-95d8-7f41630208fc"
      },
      "outputs": [
        {
          "name": "stdout",
          "output_type": "stream",
          "text": [
            "20 12 17 21\n"
          ]
        }
      ],
      "source": [
        "a='AGCTTTTCATTCTGACTGCAACGGGCAATATGTCTCTGTGTGGATTAAAAAAAGAGTGTCTGATAGCAGC'\n",
        "print(f'{a.count(\"A\")} {a.count(\"C\")} {a.count(\"G\")} {a.count(\"T\")}')"
      ]
    },
    {
      "cell_type": "markdown",
      "metadata": {
        "id": "rj-OWB6Jym5y"
      },
      "source": [
        "####**TASK P19.2** Modify your code for the Rosalind #5 Dictionary problem so that it uses count( ) to count the words."
      ]
    },
    {
      "cell_type": "code",
      "execution_count": 38,
      "metadata": {
        "colab": {
          "base_uri": "https://localhost:8080/"
        },
        "id": "9H_S6jLnzfxR",
        "outputId": "86946b38-6cfc-4ca5-86db-7368b466acb6"
      },
      "outputs": [
        {
          "name": "stdout",
          "output_type": "stream",
          "text": [
            "We 1\n",
            "tried 3\n",
            "list 1\n",
            "and 1\n",
            "we 2\n",
            "dicts 1\n",
            "also 1\n",
            "Zen 1\n"
          ]
        }
      ],
      "source": [
        "with open(\"practice_5.txt\",\"r\") as data:\n",
        "\n",
        "  s=data.read()\n",
        "\n",
        "word_counts = {}\n",
        "words = s.split()\n",
        "\n",
        "for word in words:\n",
        "  if word not in word_counts:\n",
        "    word_counts[word] = words.count(word)\n",
        "\n",
        "for word, count in word_counts.items():\n",
        "  print(word, count)"
      ]
    },
    {
      "cell_type": "markdown",
      "metadata": {
        "id": "RzMon_wAzg7D"
      },
      "source": [
        "####**<font color=crimson>TASK 19.3 Commit to GitHub**</font>\n"
      ]
    },
    {
      "cell_type": "markdown",
      "metadata": {
        "id": "-IB0c2gG0Z1O"
      },
      "source": [
        "#<font color=blue>**P20.**</font> Installing biopython"
      ]
    },
    {
      "cell_type": "code",
      "execution_count": 41,
      "metadata": {
        "colab": {
          "base_uri": "https://localhost:8080/"
        },
        "id": "pinPQdEn0mJM",
        "outputId": "415f02d2-6fd9-4ca8-f4fd-3db5c2e541c5"
      },
      "outputs": [
        {
          "name": "stdout",
          "output_type": "stream",
          "text": [
            "Defaulting to user installation because normal site-packages is not writeable\n",
            "Collecting biopython\n",
            "  Downloading biopython-1.85-cp39-cp39-macosx_11_0_arm64.whl (2.8 MB)\n",
            "\u001b[K     |████████████████████████████████| 2.8 MB 1.6 MB/s eta 0:00:01     |█████████████████               | 1.5 MB 668 kB/s eta 0:00:02\n",
            "\u001b[?25hRequirement already satisfied: numpy in /Users/seshapriyanandanallamothu/Library/Python/3.9/lib/python/site-packages (from biopython) (2.0.2)\n",
            "Installing collected packages: biopython\n",
            "Successfully installed biopython-1.85\n",
            "\u001b[33mWARNING: You are using pip version 21.2.4; however, version 25.2 is available.\n",
            "You should consider upgrading via the '/Library/Developer/CommandLineTools/usr/bin/python3 -m pip install --upgrade pip' command.\u001b[0m\n"
          ]
        }
      ],
      "source": [
        "!pip3 install biopython"
      ]
    },
    {
      "cell_type": "code",
      "execution_count": 42,
      "metadata": {
        "colab": {
          "base_uri": "https://localhost:8080/"
        },
        "id": "5ccd6f0b",
        "outputId": "f98a9e74-fef9-4e4d-88c2-41fa11c779ca"
      },
      "outputs": [
        {
          "name": "stdout",
          "output_type": "stream",
          "text": [
            "Biopython is installed correctly.\n"
          ]
        }
      ],
      "source": [
        "try:\n",
        "  from Bio.Seq import Seq\n",
        "  print(\"Biopython is installed correctly.\")\n",
        "except ImportError:\n",
        "  print(\"Biopython is not installed or there was an import error.\")"
      ]
    },
    {
      "cell_type": "markdown",
      "metadata": {
        "id": "IGX-ThdQ3RuA"
      },
      "source": [
        "#<font color=blue>**P21.**</font> Seq( ) – a function to define sequence objects"
      ]
    },
    {
      "cell_type": "code",
      "execution_count": 43,
      "metadata": {
        "id": "ltZBr8mE4OhM"
      },
      "outputs": [],
      "source": [
        "from Bio.Seq import Seq\n",
        "\n",
        "my_sequence = Seq(\"GATGGAACTTGACTACGTAAATT\")"
      ]
    },
    {
      "cell_type": "markdown",
      "metadata": {
        "id": "UXCuEFxg6Jxx"
      },
      "source": [
        "####**TASK BP21.2** <font color=orange> **Complete Rosalind #7 Transcribing DNA into RNA**</font>"
      ]
    },
    {
      "cell_type": "code",
      "execution_count": 44,
      "metadata": {
        "colab": {
          "base_uri": "https://localhost:8080/"
        },
        "id": "UXt6gWLM6qde",
        "outputId": "09353a13-5097-4f02-8b3b-dd8b8a533ed9"
      },
      "outputs": [
        {
          "name": "stdout",
          "output_type": "stream",
          "text": [
            "GAUGGAACUUGACUACGUAAAUU\n"
          ]
        }
      ],
      "source": [
        "# Enter code for Rosalind #7 here using Biopython Seq:\n",
        "rna_seq = my_sequence.transcribe()\n",
        "print(rna_seq)"
      ]
    },
    {
      "cell_type": "markdown",
      "metadata": {
        "id": "9P4_MaXp6O3n"
      },
      "source": [
        "####**TASK BP21.2** <font color=orange> **Complete Rosalind #8  Translating RNA into Protein**</font>"
      ]
    },
    {
      "cell_type": "code",
      "execution_count": 45,
      "metadata": {
        "colab": {
          "base_uri": "https://localhost:8080/"
        },
        "id": "5Rzzfzij6q2P",
        "outputId": "0db094e0-12b9-4ac3-bed6-f78aa159c48d"
      },
      "outputs": [
        {
          "name": "stdout",
          "output_type": "stream",
          "text": [
            "MAMAPRTEINSTRING*\n"
          ]
        }
      ],
      "source": [
        "# Enter code for Rosalind #8 here using Biopython Seq:\n",
        "my_rna=Seq('AUGGCCAUGGCGCCCAGAACUGAGAUCAAUAGUACCCGUAUUAACGGGUGA')\n",
        "protein_seq = my_rna.translate()\n",
        "print(protein_seq)"
      ]
    },
    {
      "cell_type": "markdown",
      "metadata": {
        "id": "dvtR4N7L6sZ_"
      },
      "source": [
        "####**<font color=crimson>TASK 21.3 Commit to GitHub**</font>"
      ]
    },
    {
      "cell_type": "markdown",
      "metadata": {
        "id": "bDJqtRiX3fEG"
      },
      "source": [
        "#<font color=blue>**P22.**</font> SeqIO – a function to parse( ) sequence files"
      ]
    },
    {
      "cell_type": "markdown",
      "metadata": {
        "id": "VKyMhLjx7nIo"
      },
      "source": [
        "####**TASK BP 22.1** Read in the practice dataset from Rosalind #9 and print the id of each sequence in the file."
      ]
    },
    {
      "cell_type": "code",
      "execution_count": 46,
      "metadata": {
        "id": "xUi3JEoh7yJ6"
      },
      "outputs": [],
      "source": [
        "from Bio.SeqIO import parse\n",
        "from Bio.SeqUtils import gc_fraction\n",
        "\n",
        "# Create the practice_9.txt file with the sample dataset\n",
        "file_content_9 = \"\"\">Rosalind_6404\n",
        "CCTGCGGAAGATCGGCACTAGAATAGCCAGAACCGTTTCTCTGAGGCTTCCGGCCTTCCC\n",
        "TCCCACTAATAATTCTGAGG\n",
        ">Rosalind_5959\n",
        "CCATCGGTAGCGCATCCTTAGTCCAATTAAGTCCCTATCCAGGCGCTCCGCCGAAGGTCT\n",
        "ATATCCATTTGTCAGCAGACACGC\n",
        ">Rosalind_0808\n",
        "CCACCCTCGTGGTATGGCTAGGCATTCAGGAACCGGAGAACGCTTCAGACCAGCCCGGAC\n",
        "TGGGAACCTGCGGGCAGTAGGTGGAAT\"\"\"\n",
        "\n",
        "with open(\"practice_9.txt\", \"w\") as f:\n",
        "  f.write(file_content_9)\n",
        "kk=0\n",
        "# Load and parse the FASTA file\n",
        "sequences = list(parse(\"practice_9.txt\", \"fasta\"))\n",
        "#for seq_record in parse(\"practice_9.txt\", \"fasta\"):\n",
        "#    print (seq_record.id)\n",
        "#    print (seq_record.seq)\n",
        "#    print (len(seq_record.seq))\n",
        "#    print (seq_record)"
      ]
    },
    {
      "cell_type": "code",
      "execution_count": 47,
      "metadata": {
        "colab": {
          "base_uri": "https://localhost:8080/"
        },
        "id": "4nnNUSpRyqKM",
        "outputId": "0981f6c0-de32-4268-a38d-d91dda42fd5f"
      },
      "outputs": [
        {
          "name": "stdout",
          "output_type": "stream",
          "text": [
            "The ID of the sequence with the maximum length is: Rosalind_0808\n",
            "The maximum sequence length is: 87\n"
          ]
        }
      ],
      "source": [
        "longest_sequence = max(sequences, key=lambda seq_record: len(seq_record.seq))\n",
        "\n",
        "# Print the ID and the length of the longest sequence\n",
        "print(f\"The ID of the sequence with the maximum length is: {longest_sequence.id}\")\n",
        "print(f\"The maximum sequence length is: {len(longest_sequence.seq)}\")"
      ]
    },
    {
      "cell_type": "markdown",
      "metadata": {
        "id": "SAjUYBpe3pwi"
      },
      "source": [
        "#<font color=blue>**P23.**</font> SeqUtils.gc_fraction( ) – a function to compute GC content"
      ]
    },
    {
      "cell_type": "markdown",
      "metadata": {
        "id": "kEjUu8HfHniC"
      },
      "source": [
        "####**TASK P23.1** Modify the script from TASK P22.1 so that it prints the GC content for each sequence in the file"
      ]
    },
    {
      "cell_type": "code",
      "execution_count": 48,
      "metadata": {
        "colab": {
          "base_uri": "https://localhost:8080/"
        },
        "id": "XJP5g3ckzLoI",
        "outputId": "7ab211b8-556e-4db5-aca0-469b3a82fa81"
      },
      "outputs": [
        {
          "name": "stdout",
          "output_type": "stream",
          "text": [
            "Rosalind_6404: 53.750000%\n",
            "Rosalind_5959: 53.571429%\n",
            "Rosalind_0808: 60.919540%\n"
          ]
        }
      ],
      "source": [
        "from Bio.SeqUtils import gc_fraction\n",
        "\n",
        "# Assuming 'sequences' list is already loaded from the FASTA file\n",
        "# If not, you would need to include the file reading and parsing code here\n",
        "\n",
        "# Calculate and print GC content for each sequence\n",
        "for seq_record in sequences:\n",
        "    gc_content = gc_fraction(seq_record.seq) * 100  # gc_fraction returns a fraction, multiply by 100 for percentage\n",
        "    print(f\"{seq_record.id}: {gc_content:.6f}%\") # Print with 6 decimal places for precision"
      ]
    },
    {
      "cell_type": "markdown",
      "metadata": {
        "id": "nJeXcQR7HwOf"
      },
      "source": [
        "####**TASK P23.2** <font color=orange> **Complete Rosalind #9  Computing GC Content**</font>"
      ]
    },
    {
      "cell_type": "code",
      "execution_count": 49,
      "metadata": {
        "colab": {
          "base_uri": "https://localhost:8080/"
        },
        "id": "GjX7wTl20CPe",
        "outputId": "7ec1c22d-1495-4fc7-e977-6eeee85da329"
      },
      "outputs": [
        {
          "name": "stdout",
          "output_type": "stream",
          "text": [
            "The ID of the sequence with the highest GC content is: Rosalind_0808\n",
            "The highest GC content is: 60.919540%\n"
          ]
        }
      ],
      "source": [
        "# Assuming 'longest_sequence' is already defined and contains the SeqRecord with the highest GC content\n",
        "\n",
        "print(f\"The ID of the sequence with the highest GC content is: {longest_sequence.id}\")\n",
        "print(f\"The highest GC content is: {gc_fraction(longest_sequence.seq) * 100:.6f}%\")"
      ]
    },
    {
      "cell_type": "markdown",
      "metadata": {
        "id": "gavUUL39INzP"
      },
      "source": [
        "####**<font color=crimson>TASK 23.3 Commit to GitHub**</font>"
      ]
    },
    {
      "cell_type": "markdown",
      "metadata": {
        "id": "Zf_OZq9R0dnq"
      },
      "source": []
    },
    {
      "cell_type": "markdown",
      "metadata": {},
      "source": []
    },
    {
      "cell_type": "markdown",
      "metadata": {},
      "source": []
    },
    {
      "cell_type": "markdown",
      "metadata": {},
      "source": []
    }
  ],
  "metadata": {
    "colab": {
      "provenance": []
    },
    "kernelspec": {
      "display_name": "Python 3",
      "name": "python3"
    },
    "language_info": {
      "codemirror_mode": {
        "name": "ipython",
        "version": 3
      },
      "file_extension": ".py",
      "mimetype": "text/x-python",
      "name": "python",
      "nbconvert_exporter": "python",
      "pygments_lexer": "ipython3",
      "version": "3.9.6"
    }
  },
  "nbformat": 4,
  "nbformat_minor": 0
}
